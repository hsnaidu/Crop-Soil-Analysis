{
 "cells": [
  {
   "cell_type": "code",
   "execution_count": 2,
   "id": "4f2585e7",
   "metadata": {},
   "outputs": [
    {
     "name": "stdout",
     "output_type": "stream",
     "text": [
      "3.12.7 | packaged by Anaconda, Inc. | (main, Oct  4 2024, 13:17:27) [MSC v.1929 64 bit (AMD64)]\n"
     ]
    }
   ],
   "source": [
    "from sys import version\n",
    "print(version)"
   ]
  },
  {
   "cell_type": "code",
   "execution_count": 3,
   "id": "a75552e1",
   "metadata": {},
   "outputs": [],
   "source": [
    "# Importing the Library\n",
    "import pandas as pd\n",
    "import numpy as np\n",
    "import matplotlib.pylab as plt\n",
    "import matplotlib\n",
    "%matplotlib inline\n",
    "matplotlib.rcParams['figure.figsize'] = (6, 6) # Figure-size \n",
    "import seaborn as sns\n",
    "pd.set_option('display.max_columns', 100) # Display 100 columns\n",
    "\n",
    "import warnings\n",
    "warnings.filterwarnings('ignore')"
   ]
  },
  {
   "cell_type": "markdown",
   "id": "11ea6c25",
   "metadata": {},
   "source": [
    "Machine Learning Library"
   ]
  },
  {
   "cell_type": "code",
   "execution_count": 4,
   "id": "2125b0a1",
   "metadata": {},
   "outputs": [],
   "source": [
    "from sklearn.preprocessing import LabelEncoder\n",
    "from sklearn.preprocessing import StandardScaler\n",
    "from sklearn.model_selection import train_test_split as tts\n",
    "from sklearn.model_selection import GridSearchCV as gscv"
   ]
  },
  {
   "cell_type": "code",
   "execution_count": 5,
   "id": "f187d604",
   "metadata": {},
   "outputs": [],
   "source": [
    "scaler = StandardScaler()\n",
    "encoder = LabelEncoder()"
   ]
  },
  {
   "cell_type": "markdown",
   "id": "0eed43ca",
   "metadata": {},
   "source": [
    "Reading the data"
   ]
  },
  {
   "cell_type": "code",
   "execution_count": 6,
   "id": "f8c4a167",
   "metadata": {},
   "outputs": [],
   "source": [
    "try:\n",
    "    df = pd.read_csv(data:='C:\\\\Users\\\\LEGION\\\\Desktop\\\\Kolar_Soil_Analysis\\\\Data\\\\Raw Data\\\\Main_RAW.xlsx')\n",
    "except:\n",
    "    df = pd.read_excel(data)"
   ]
  },
  {
   "cell_type": "markdown",
   "id": "b369b5a6",
   "metadata": {},
   "source": [
    "EDA"
   ]
  },
  {
   "cell_type": "code",
   "execution_count": 8,
   "id": "7d2efd1b",
   "metadata": {},
   "outputs": [
    {
     "data": {
      "text/plain": [
       "((4467, 27), 120609)"
      ]
     },
     "execution_count": 8,
     "metadata": {},
     "output_type": "execute_result"
    }
   ],
   "source": [
    "# Printing the Shape and Size\n",
    "df.shape, df.size"
   ]
  },
  {
   "cell_type": "code",
   "execution_count": 9,
   "id": "652b9000",
   "metadata": {},
   "outputs": [
    {
     "data": {
      "application/vnd.microsoft.datawrangler.viewer.v0+json": {
       "columns": [
        {
         "name": "index",
         "rawType": "int64",
         "type": "integer"
        },
        {
         "name": "SL.no",
         "rawType": "int64",
         "type": "integer"
        },
        {
         "name": "Sample No",
         "rawType": "object",
         "type": "string"
        },
        {
         "name": "Name of Village",
         "rawType": "object",
         "type": "string"
        },
        {
         "name": "Sampled Year",
         "rawType": "object",
         "type": "string"
        },
        {
         "name": "Farmer Name",
         "rawType": "object",
         "type": "string"
        },
        {
         "name": "Land Area",
         "rawType": "float64",
         "type": "float"
        },
        {
         "name": "Survey No",
         "rawType": "object",
         "type": "unknown"
        },
        {
         "name": "Longitude",
         "rawType": "float64",
         "type": "float"
        },
        {
         "name": "Lattitude",
         "rawType": "float64",
         "type": "float"
        },
        {
         "name": "pH",
         "rawType": "object",
         "type": "string"
        },
        {
         "name": "EC",
         "rawType": "object",
         "type": "string"
        },
        {
         "name": "OC",
         "rawType": "object",
         "type": "string"
        },
        {
         "name": "P",
         "rawType": "object",
         "type": "string"
        },
        {
         "name": "K",
         "rawType": "object",
         "type": "string"
        },
        {
         "name": "S",
         "rawType": "object",
         "type": "string"
        },
        {
         "name": "Zn",
         "rawType": "object",
         "type": "string"
        },
        {
         "name": "Fe",
         "rawType": "object",
         "type": "string"
        },
        {
         "name": "Cu",
         "rawType": "object",
         "type": "string"
        },
        {
         "name": "Mn",
         "rawType": "object",
         "type": "string"
        },
        {
         "name": "B",
         "rawType": "object",
         "type": "string"
        },
        {
         "name": "Fertility Index",
         "rawType": "float64",
         "type": "float"
        },
        {
         "name": "Crop Name",
         "rawType": "object",
         "type": "string"
        },
        {
         "name": "Irrigation Pattern",
         "rawType": "object",
         "type": "string"
        },
        {
         "name": "Crop Rotation",
         "rawType": "object",
         "type": "string"
        },
        {
         "name": "Fertilizer Used",
         "rawType": "object",
         "type": "string"
        },
        {
         "name": "Yield Returns",
         "rawType": "object",
         "type": "string"
        },
        {
         "name": "YR(Label)",
         "rawType": "object",
         "type": "unknown"
        }
       ],
       "conversionMethod": "pd.DataFrame",
       "ref": "3816657b-67a6-46b5-b5b2-3d1676e3261e",
       "rows": [
        [
         "0",
         "1",
         "KA622917/2016-17/7578984",
         "Varadaganahalli Avani Hobli",
         "2016-17",
         "Mangamma",
         "1.0",
         "13",
         "78.555277892",
         "13.234444492",
         "5.70000 MAc ",
         "0.61000 N   ",
         "0.16000 VL",
         "7.00000 VL",
         "201.00000 M ",
         "48.40000 S",
         "0.32000 D",
         "10.61000 S",
         "0.22000 S",
         "4.37000 S",
         "0.70000 S",
         "1.0",
         "Tomato Hybrid",
         "Irrigation",
         "No",
         "Organic",
         "High",
         "1"
        ],
        [
         "1",
         "2",
         "KA622917/2016-17/7564857",
         "Varadaganahalli Avani Hobli",
         "2016-17",
         "Kere",
         "1.0",
         "14",
         "78.563611232",
         "13.242500054",
         "7.40000 MAl ",
         "0.86000 N   ",
         "0.41000 L ",
         "206.00000 VH",
         "258.00000 M ",
         "293.00000 S",
         "0.61000 S",
         "3.83000 D",
         "0.31000 S",
         "7.39000 S",
         "4.00000 S",
         "4.0",
         "Mulberry, silk plant",
         "Rainfeed",
         "No",
         "InOrganic",
         "Moderate",
         "3"
        ],
        [
         "2",
         "3",
         "KA622917/2016-17/7564857",
         "Varadaganahalli Avani Hobli",
         "2016-17",
         "LAKSHMAYYA S/O CHIKKAMUNEPPA",
         "0.6",
         "16",
         "78.563611232",
         "13.242500054",
         "7.40000 MAl ",
         "0.86000 N   ",
         "0.41000 L ",
         "206.00000 VH",
         "258.00000 M ",
         "293.00000 S",
         "0.61000 S",
         "3.83000 D",
         "0.31000 S",
         "7.39000 S",
         "4.00000 S",
         "1.0",
         "Corn - local",
         "Rainfeed",
         "No",
         "Organic",
         "High",
         "1"
        ]
       ],
       "shape": {
        "columns": 27,
        "rows": 3
       }
      },
      "text/html": [
       "<div>\n",
       "<style scoped>\n",
       "    .dataframe tbody tr th:only-of-type {\n",
       "        vertical-align: middle;\n",
       "    }\n",
       "\n",
       "    .dataframe tbody tr th {\n",
       "        vertical-align: top;\n",
       "    }\n",
       "\n",
       "    .dataframe thead th {\n",
       "        text-align: right;\n",
       "    }\n",
       "</style>\n",
       "<table border=\"1\" class=\"dataframe\">\n",
       "  <thead>\n",
       "    <tr style=\"text-align: right;\">\n",
       "      <th></th>\n",
       "      <th>SL.no</th>\n",
       "      <th>Sample No</th>\n",
       "      <th>Name of Village</th>\n",
       "      <th>Sampled Year</th>\n",
       "      <th>Farmer Name</th>\n",
       "      <th>Land Area</th>\n",
       "      <th>Survey No</th>\n",
       "      <th>Longitude</th>\n",
       "      <th>Lattitude</th>\n",
       "      <th>pH</th>\n",
       "      <th>EC</th>\n",
       "      <th>OC</th>\n",
       "      <th>P</th>\n",
       "      <th>K</th>\n",
       "      <th>S</th>\n",
       "      <th>Zn</th>\n",
       "      <th>Fe</th>\n",
       "      <th>Cu</th>\n",
       "      <th>Mn</th>\n",
       "      <th>B</th>\n",
       "      <th>Fertility Index</th>\n",
       "      <th>Crop Name</th>\n",
       "      <th>Irrigation Pattern</th>\n",
       "      <th>Crop Rotation</th>\n",
       "      <th>Fertilizer Used</th>\n",
       "      <th>Yield Returns</th>\n",
       "      <th>YR(Label)</th>\n",
       "    </tr>\n",
       "  </thead>\n",
       "  <tbody>\n",
       "    <tr>\n",
       "      <th>0</th>\n",
       "      <td>1</td>\n",
       "      <td>KA622917/2016-17/7578984</td>\n",
       "      <td>Varadaganahalli Avani Hobli</td>\n",
       "      <td>2016-17</td>\n",
       "      <td>Mangamma</td>\n",
       "      <td>1.0</td>\n",
       "      <td>13</td>\n",
       "      <td>78.555278</td>\n",
       "      <td>13.234444</td>\n",
       "      <td>5.70000 MAc</td>\n",
       "      <td>0.61000 N</td>\n",
       "      <td>0.16000 VL</td>\n",
       "      <td>7.00000 VL</td>\n",
       "      <td>201.00000 M</td>\n",
       "      <td>48.40000 S</td>\n",
       "      <td>0.32000 D</td>\n",
       "      <td>10.61000 S</td>\n",
       "      <td>0.22000 S</td>\n",
       "      <td>4.37000 S</td>\n",
       "      <td>0.70000 S</td>\n",
       "      <td>1.0</td>\n",
       "      <td>Tomato Hybrid</td>\n",
       "      <td>Irrigation</td>\n",
       "      <td>No</td>\n",
       "      <td>Organic</td>\n",
       "      <td>High</td>\n",
       "      <td>1</td>\n",
       "    </tr>\n",
       "    <tr>\n",
       "      <th>1</th>\n",
       "      <td>2</td>\n",
       "      <td>KA622917/2016-17/7564857</td>\n",
       "      <td>Varadaganahalli Avani Hobli</td>\n",
       "      <td>2016-17</td>\n",
       "      <td>Kere</td>\n",
       "      <td>1.0</td>\n",
       "      <td>14</td>\n",
       "      <td>78.563611</td>\n",
       "      <td>13.242500</td>\n",
       "      <td>7.40000 MAl</td>\n",
       "      <td>0.86000 N</td>\n",
       "      <td>0.41000 L</td>\n",
       "      <td>206.00000 VH</td>\n",
       "      <td>258.00000 M</td>\n",
       "      <td>293.00000 S</td>\n",
       "      <td>0.61000 S</td>\n",
       "      <td>3.83000 D</td>\n",
       "      <td>0.31000 S</td>\n",
       "      <td>7.39000 S</td>\n",
       "      <td>4.00000 S</td>\n",
       "      <td>4.0</td>\n",
       "      <td>Mulberry, silk plant</td>\n",
       "      <td>Rainfeed</td>\n",
       "      <td>No</td>\n",
       "      <td>InOrganic</td>\n",
       "      <td>Moderate</td>\n",
       "      <td>3</td>\n",
       "    </tr>\n",
       "    <tr>\n",
       "      <th>2</th>\n",
       "      <td>3</td>\n",
       "      <td>KA622917/2016-17/7564857</td>\n",
       "      <td>Varadaganahalli Avani Hobli</td>\n",
       "      <td>2016-17</td>\n",
       "      <td>LAKSHMAYYA S/O CHIKKAMUNEPPA</td>\n",
       "      <td>0.6</td>\n",
       "      <td>16</td>\n",
       "      <td>78.563611</td>\n",
       "      <td>13.242500</td>\n",
       "      <td>7.40000 MAl</td>\n",
       "      <td>0.86000 N</td>\n",
       "      <td>0.41000 L</td>\n",
       "      <td>206.00000 VH</td>\n",
       "      <td>258.00000 M</td>\n",
       "      <td>293.00000 S</td>\n",
       "      <td>0.61000 S</td>\n",
       "      <td>3.83000 D</td>\n",
       "      <td>0.31000 S</td>\n",
       "      <td>7.39000 S</td>\n",
       "      <td>4.00000 S</td>\n",
       "      <td>1.0</td>\n",
       "      <td>Corn - local</td>\n",
       "      <td>Rainfeed</td>\n",
       "      <td>No</td>\n",
       "      <td>Organic</td>\n",
       "      <td>High</td>\n",
       "      <td>1</td>\n",
       "    </tr>\n",
       "  </tbody>\n",
       "</table>\n",
       "</div>"
      ],
      "text/plain": [
       "   SL.no                 Sample No              Name of Village Sampled Year  \\\n",
       "0      1  KA622917/2016-17/7578984  Varadaganahalli Avani Hobli      2016-17   \n",
       "1      2  KA622917/2016-17/7564857  Varadaganahalli Avani Hobli      2016-17   \n",
       "2      3  KA622917/2016-17/7564857  Varadaganahalli Avani Hobli      2016-17   \n",
       "\n",
       "                    Farmer Name  Land Area Survey No  Longitude  Lattitude  \\\n",
       "0                      Mangamma        1.0        13  78.555278  13.234444   \n",
       "1                          Kere        1.0        14  78.563611  13.242500   \n",
       "2  LAKSHMAYYA S/O CHIKKAMUNEPPA        0.6        16  78.563611  13.242500   \n",
       "\n",
       "             pH            EC          OC             P             K  \\\n",
       "0  5.70000 MAc   0.61000 N     0.16000 VL    7.00000 VL  201.00000 M    \n",
       "1  7.40000 MAl   0.86000 N     0.41000 L   206.00000 VH  258.00000 M    \n",
       "2  7.40000 MAl   0.86000 N     0.41000 L   206.00000 VH  258.00000 M    \n",
       "\n",
       "             S         Zn          Fe         Cu         Mn          B  \\\n",
       "0   48.40000 S  0.32000 D  10.61000 S  0.22000 S  4.37000 S  0.70000 S   \n",
       "1  293.00000 S  0.61000 S   3.83000 D  0.31000 S  7.39000 S  4.00000 S   \n",
       "2  293.00000 S  0.61000 S   3.83000 D  0.31000 S  7.39000 S  4.00000 S   \n",
       "\n",
       "   Fertility Index             Crop Name Irrigation Pattern Crop Rotation  \\\n",
       "0              1.0         Tomato Hybrid         Irrigation            No   \n",
       "1              4.0  Mulberry, silk plant           Rainfeed            No   \n",
       "2              1.0          Corn - local           Rainfeed            No   \n",
       "\n",
       "  Fertilizer Used Yield Returns YR(Label)  \n",
       "0         Organic          High         1  \n",
       "1       InOrganic      Moderate         3  \n",
       "2         Organic          High         1  "
      ]
     },
     "execution_count": 9,
     "metadata": {},
     "output_type": "execute_result"
    }
   ],
   "source": [
    "# Checking the basic data\n",
    "df.head(3)"
   ]
  },
  {
   "cell_type": "code",
   "execution_count": 10,
   "id": "354cc0c8",
   "metadata": {},
   "outputs": [
    {
     "data": {
      "application/vnd.microsoft.datawrangler.viewer.v0+json": {
       "columns": [
        {
         "name": "index",
         "rawType": "int64",
         "type": "integer"
        },
        {
         "name": "SL.no",
         "rawType": "int64",
         "type": "integer"
        },
        {
         "name": "Sample No",
         "rawType": "object",
         "type": "string"
        },
        {
         "name": "Name of Village",
         "rawType": "object",
         "type": "string"
        },
        {
         "name": "Sampled Year",
         "rawType": "object",
         "type": "string"
        },
        {
         "name": "Farmer Name",
         "rawType": "object",
         "type": "string"
        },
        {
         "name": "Land Area",
         "rawType": "float64",
         "type": "float"
        },
        {
         "name": "Survey No",
         "rawType": "object",
         "type": "unknown"
        },
        {
         "name": "Longitude",
         "rawType": "float64",
         "type": "float"
        },
        {
         "name": "Lattitude",
         "rawType": "float64",
         "type": "float"
        },
        {
         "name": "pH",
         "rawType": "object",
         "type": "string"
        },
        {
         "name": "EC",
         "rawType": "object",
         "type": "string"
        },
        {
         "name": "OC",
         "rawType": "object",
         "type": "string"
        },
        {
         "name": "P",
         "rawType": "object",
         "type": "string"
        },
        {
         "name": "K",
         "rawType": "object",
         "type": "string"
        },
        {
         "name": "S",
         "rawType": "object",
         "type": "string"
        },
        {
         "name": "Zn",
         "rawType": "object",
         "type": "string"
        },
        {
         "name": "Fe",
         "rawType": "object",
         "type": "string"
        },
        {
         "name": "Cu",
         "rawType": "object",
         "type": "string"
        },
        {
         "name": "Mn",
         "rawType": "object",
         "type": "string"
        },
        {
         "name": "B",
         "rawType": "object",
         "type": "string"
        },
        {
         "name": "Fertility Index",
         "rawType": "float64",
         "type": "float"
        },
        {
         "name": "Crop Name",
         "rawType": "object",
         "type": "string"
        },
        {
         "name": "Irrigation Pattern",
         "rawType": "object",
         "type": "string"
        },
        {
         "name": "Crop Rotation",
         "rawType": "object",
         "type": "string"
        },
        {
         "name": "Fertilizer Used",
         "rawType": "object",
         "type": "string"
        },
        {
         "name": "Yield Returns",
         "rawType": "object",
         "type": "string"
        },
        {
         "name": "YR(Label)",
         "rawType": "object",
         "type": "unknown"
        }
       ],
       "conversionMethod": "pd.DataFrame",
       "ref": "29d1122c-a7eb-4f7b-ac64-5725140ac9d8",
       "rows": [
        [
         "4465",
         "4466",
         "KA622935/2020-21/31828739",
         "Avani Hobli",
         "2020-21",
         "R B KEMPEGOWDA",
         "4.34",
         "254",
         "78.3352",
         "13.108749",
         "6.70000 SlAc",
         "0.52000 N   ",
         "0.40000 L ",
         "98.00000 VH",
         "237.00000 M ",
         "14.80000 S",
         "1.34000 S",
         "6.68000 S",
         "1.10000 S",
         "11.11000 S",
         "0.60000 S",
         "3.0",
         "Paddy-high yield",
         "Irrigation",
         "No",
         "Organic",
         "Moderate",
         "3"
        ],
        [
         "4466",
         "4467",
         "KA622935/2020-21/31828745",
         "Avani Hobli",
         "2020-21",
         "MUNIVENKATAPPA",
         "2.0",
         "255",
         "78.37071",
         "13.10487",
         "6.30000 MAc ",
         "0.39000 N   ",
         "0.20000 VL",
         "51.00000 M ",
         "255.00000 M ",
         "30.70000 S",
         "1.55000 S",
         "8.23000 S",
         "0.85000 S",
         "25.29000 S",
         "0.20000 D",
         "3.0",
         "Paddy-high yield",
         "Irrigation",
         "No",
         "Organic",
         "Moderate",
         "3"
        ]
       ],
       "shape": {
        "columns": 27,
        "rows": 2
       }
      },
      "text/html": [
       "<div>\n",
       "<style scoped>\n",
       "    .dataframe tbody tr th:only-of-type {\n",
       "        vertical-align: middle;\n",
       "    }\n",
       "\n",
       "    .dataframe tbody tr th {\n",
       "        vertical-align: top;\n",
       "    }\n",
       "\n",
       "    .dataframe thead th {\n",
       "        text-align: right;\n",
       "    }\n",
       "</style>\n",
       "<table border=\"1\" class=\"dataframe\">\n",
       "  <thead>\n",
       "    <tr style=\"text-align: right;\">\n",
       "      <th></th>\n",
       "      <th>SL.no</th>\n",
       "      <th>Sample No</th>\n",
       "      <th>Name of Village</th>\n",
       "      <th>Sampled Year</th>\n",
       "      <th>Farmer Name</th>\n",
       "      <th>Land Area</th>\n",
       "      <th>Survey No</th>\n",
       "      <th>Longitude</th>\n",
       "      <th>Lattitude</th>\n",
       "      <th>pH</th>\n",
       "      <th>EC</th>\n",
       "      <th>OC</th>\n",
       "      <th>P</th>\n",
       "      <th>K</th>\n",
       "      <th>S</th>\n",
       "      <th>Zn</th>\n",
       "      <th>Fe</th>\n",
       "      <th>Cu</th>\n",
       "      <th>Mn</th>\n",
       "      <th>B</th>\n",
       "      <th>Fertility Index</th>\n",
       "      <th>Crop Name</th>\n",
       "      <th>Irrigation Pattern</th>\n",
       "      <th>Crop Rotation</th>\n",
       "      <th>Fertilizer Used</th>\n",
       "      <th>Yield Returns</th>\n",
       "      <th>YR(Label)</th>\n",
       "    </tr>\n",
       "  </thead>\n",
       "  <tbody>\n",
       "    <tr>\n",
       "      <th>4465</th>\n",
       "      <td>4466</td>\n",
       "      <td>KA622935/2020-21/31828739</td>\n",
       "      <td>Avani Hobli</td>\n",
       "      <td>2020-21</td>\n",
       "      <td>R B KEMPEGOWDA</td>\n",
       "      <td>4.34</td>\n",
       "      <td>254</td>\n",
       "      <td>78.33520</td>\n",
       "      <td>13.108749</td>\n",
       "      <td>6.70000 SlAc</td>\n",
       "      <td>0.52000 N</td>\n",
       "      <td>0.40000 L</td>\n",
       "      <td>98.00000 VH</td>\n",
       "      <td>237.00000 M</td>\n",
       "      <td>14.80000 S</td>\n",
       "      <td>1.34000 S</td>\n",
       "      <td>6.68000 S</td>\n",
       "      <td>1.10000 S</td>\n",
       "      <td>11.11000 S</td>\n",
       "      <td>0.60000 S</td>\n",
       "      <td>3.0</td>\n",
       "      <td>Paddy-high yield</td>\n",
       "      <td>Irrigation</td>\n",
       "      <td>No</td>\n",
       "      <td>Organic</td>\n",
       "      <td>Moderate</td>\n",
       "      <td>3</td>\n",
       "    </tr>\n",
       "    <tr>\n",
       "      <th>4466</th>\n",
       "      <td>4467</td>\n",
       "      <td>KA622935/2020-21/31828745</td>\n",
       "      <td>Avani Hobli</td>\n",
       "      <td>2020-21</td>\n",
       "      <td>MUNIVENKATAPPA</td>\n",
       "      <td>2.00</td>\n",
       "      <td>255</td>\n",
       "      <td>78.37071</td>\n",
       "      <td>13.104870</td>\n",
       "      <td>6.30000 MAc</td>\n",
       "      <td>0.39000 N</td>\n",
       "      <td>0.20000 VL</td>\n",
       "      <td>51.00000 M</td>\n",
       "      <td>255.00000 M</td>\n",
       "      <td>30.70000 S</td>\n",
       "      <td>1.55000 S</td>\n",
       "      <td>8.23000 S</td>\n",
       "      <td>0.85000 S</td>\n",
       "      <td>25.29000 S</td>\n",
       "      <td>0.20000 D</td>\n",
       "      <td>3.0</td>\n",
       "      <td>Paddy-high yield</td>\n",
       "      <td>Irrigation</td>\n",
       "      <td>No</td>\n",
       "      <td>Organic</td>\n",
       "      <td>Moderate</td>\n",
       "      <td>3</td>\n",
       "    </tr>\n",
       "  </tbody>\n",
       "</table>\n",
       "</div>"
      ],
      "text/plain": [
       "      SL.no                  Sample No Name of Village Sampled Year  \\\n",
       "4465   4466  KA622935/2020-21/31828739     Avani Hobli      2020-21   \n",
       "4466   4467  KA622935/2020-21/31828745     Avani Hobli      2020-21   \n",
       "\n",
       "         Farmer Name  Land Area Survey No  Longitude  Lattitude            pH  \\\n",
       "4465  R B KEMPEGOWDA       4.34       254   78.33520  13.108749  6.70000 SlAc   \n",
       "4466  MUNIVENKATAPPA       2.00       255   78.37071  13.104870  6.30000 MAc    \n",
       "\n",
       "                EC          OC            P             K           S  \\\n",
       "4465  0.52000 N     0.40000 L   98.00000 VH  237.00000 M   14.80000 S   \n",
       "4466  0.39000 N     0.20000 VL  51.00000 M   255.00000 M   30.70000 S   \n",
       "\n",
       "             Zn         Fe         Cu          Mn          B  Fertility Index  \\\n",
       "4465  1.34000 S  6.68000 S  1.10000 S  11.11000 S  0.60000 S              3.0   \n",
       "4466  1.55000 S  8.23000 S  0.85000 S  25.29000 S  0.20000 D              3.0   \n",
       "\n",
       "             Crop Name Irrigation Pattern Crop Rotation Fertilizer Used  \\\n",
       "4465  Paddy-high yield         Irrigation            No         Organic   \n",
       "4466  Paddy-high yield         Irrigation            No         Organic   \n",
       "\n",
       "     Yield Returns YR(Label)  \n",
       "4465      Moderate         3  \n",
       "4466      Moderate         3  "
      ]
     },
     "execution_count": 10,
     "metadata": {},
     "output_type": "execute_result"
    }
   ],
   "source": [
    "df.tail(2)"
   ]
  },
  {
   "cell_type": "code",
   "execution_count": 72,
   "id": "4dc7ee55",
   "metadata": {},
   "outputs": [
    {
     "data": {
      "text/plain": [
       "SL.no                  0\n",
       "Sample No              1\n",
       "Name of Village        1\n",
       "Sampled Year           1\n",
       "Farmer Name            1\n",
       "Land Area             11\n",
       "Survey No              1\n",
       "Longitude              3\n",
       "Lattitude              3\n",
       "pH                     1\n",
       "EC                     1\n",
       "OC                     2\n",
       "P                      2\n",
       "K                      1\n",
       "S                      1\n",
       "Zn                     1\n",
       "Fe                     2\n",
       "Cu                     1\n",
       "Mn                     1\n",
       "B                      1\n",
       "Fertility Index        2\n",
       "Crop Name              1\n",
       "Irrigation Pattern     6\n",
       "Crop Rotation          2\n",
       "Fertilizer Used        2\n",
       "Yield Returns          2\n",
       "YR(Label)              2\n",
       "dtype: int64"
      ]
     },
     "execution_count": 72,
     "metadata": {},
     "output_type": "execute_result"
    }
   ],
   "source": [
    "# Checkig the null-values\n",
    "df.isna().sum()"
   ]
  },
  {
   "cell_type": "code",
   "execution_count": 70,
   "id": "894772f5",
   "metadata": {},
   "outputs": [
    {
     "name": "stdout",
     "output_type": "stream",
     "text": [
      "<class 'pandas.core.frame.DataFrame'>\n",
      "RangeIndex: 4467 entries, 0 to 4466\n",
      "Data columns (total 27 columns):\n",
      " #   Column              Non-Null Count  Dtype  \n",
      "---  ------              --------------  -----  \n",
      " 0   SL.no               4467 non-null   int64  \n",
      " 1   Sample No           4466 non-null   object \n",
      " 2   Name of Village     4466 non-null   object \n",
      " 3   Sampled Year        4466 non-null   object \n",
      " 4   Farmer Name         4466 non-null   object \n",
      " 5   Land Area           4456 non-null   float64\n",
      " 6   Survey No           4466 non-null   object \n",
      " 7   Longitude           4464 non-null   float64\n",
      " 8   Lattitude           4464 non-null   float64\n",
      " 9   pH                  4466 non-null   object \n",
      " 10  EC                  4466 non-null   object \n",
      " 11  OC                  4465 non-null   object \n",
      " 12  P                   4465 non-null   object \n",
      " 13  K                   4466 non-null   object \n",
      " 14  S                   4466 non-null   object \n",
      " 15  Zn                  4466 non-null   object \n",
      " 16  Fe                  4465 non-null   object \n",
      " 17  Cu                  4466 non-null   object \n",
      " 18  Mn                  4466 non-null   object \n",
      " 19  B                   4466 non-null   object \n",
      " 20  Fertility Index     4465 non-null   float64\n",
      " 21  Crop Name           4466 non-null   object \n",
      " 22  Irrigation Pattern  4461 non-null   object \n",
      " 23  Crop Rotation       4465 non-null   object \n",
      " 24  Fertilizer Used     4465 non-null   object \n",
      " 25  Yield Returns       4465 non-null   object \n",
      " 26  YR(Label)           4465 non-null   object \n",
      "dtypes: float64(4), int64(1), object(22)\n",
      "memory usage: 942.4+ KB\n"
     ]
    }
   ],
   "source": [
    "# Checking the D-types\n",
    "df.info()"
   ]
  },
  {
   "cell_type": "markdown",
   "id": "24e6899f",
   "metadata": {},
   "source": [
    "We need to convert the Objects into respective datatypes"
   ]
  },
  {
   "cell_type": "markdown",
   "id": "300ee82c",
   "metadata": {},
   "source": [
    "Removing the Unwanted-Values"
   ]
  },
  {
   "cell_type": "code",
   "execution_count": 80,
   "id": "b81aca50",
   "metadata": {},
   "outputs": [
    {
     "data": {
      "text/plain": [
       "Index(['SL.no', 'Sample No', 'Name of Village', 'Sampled Year', 'Farmer Name',\n",
       "       'Land Area', 'Survey No', 'Longitude', 'Lattitude', 'pH', 'EC', 'OC',\n",
       "       'P', 'K', 'S', 'Zn', 'Fe', 'Cu', 'Mn', 'B', 'Fertility Index',\n",
       "       'Crop Name', 'Irrigation Pattern', 'Crop Rotation', 'Fertilizer Used',\n",
       "       'Yield Returns', 'YR(Label)'],\n",
       "      dtype='object')"
      ]
     },
     "execution_count": 80,
     "metadata": {},
     "output_type": "execute_result"
    }
   ],
   "source": [
    "df.columns"
   ]
  },
  {
   "cell_type": "code",
   "execution_count": 89,
   "id": "324beebb",
   "metadata": {},
   "outputs": [],
   "source": [
    "df.drop(['SL.no','Sample No', 'Farmer Name', 'Survey No'], axis=1, inplace=True)"
   ]
  },
  {
   "cell_type": "code",
   "execution_count": 90,
   "id": "ebc57cf9",
   "metadata": {},
   "outputs": [
    {
     "data": {
      "application/vnd.microsoft.datawrangler.viewer.v0+json": {
       "columns": [
        {
         "name": "index",
         "rawType": "int64",
         "type": "integer"
        },
        {
         "name": "Name of Village",
         "rawType": "object",
         "type": "string"
        },
        {
         "name": "Sampled Year",
         "rawType": "object",
         "type": "string"
        },
        {
         "name": "Land Area",
         "rawType": "float64",
         "type": "float"
        },
        {
         "name": "Longitude",
         "rawType": "float64",
         "type": "float"
        },
        {
         "name": "Lattitude",
         "rawType": "float64",
         "type": "float"
        },
        {
         "name": "pH",
         "rawType": "object",
         "type": "string"
        },
        {
         "name": "EC",
         "rawType": "object",
         "type": "string"
        },
        {
         "name": "OC",
         "rawType": "object",
         "type": "string"
        },
        {
         "name": "P",
         "rawType": "object",
         "type": "string"
        },
        {
         "name": "K",
         "rawType": "object",
         "type": "string"
        },
        {
         "name": "S",
         "rawType": "object",
         "type": "string"
        },
        {
         "name": "Zn",
         "rawType": "object",
         "type": "string"
        },
        {
         "name": "Fe",
         "rawType": "object",
         "type": "string"
        },
        {
         "name": "Cu",
         "rawType": "object",
         "type": "string"
        },
        {
         "name": "Mn",
         "rawType": "object",
         "type": "string"
        },
        {
         "name": "B",
         "rawType": "object",
         "type": "string"
        },
        {
         "name": "Fertility Index",
         "rawType": "float64",
         "type": "float"
        },
        {
         "name": "Crop Name",
         "rawType": "object",
         "type": "string"
        },
        {
         "name": "Irrigation Pattern",
         "rawType": "object",
         "type": "string"
        },
        {
         "name": "Crop Rotation",
         "rawType": "object",
         "type": "string"
        },
        {
         "name": "Fertilizer Used",
         "rawType": "object",
         "type": "string"
        },
        {
         "name": "Yield Returns",
         "rawType": "object",
         "type": "string"
        },
        {
         "name": "YR(Label)",
         "rawType": "object",
         "type": "unknown"
        }
       ],
       "conversionMethod": "pd.DataFrame",
       "ref": "357eb95d-708e-4a51-8015-6f7f955ac3a5",
       "rows": [
        [
         "0",
         "Varadaganahalli Avani Hobli",
         "2016-17",
         "1.0",
         "78.555277892",
         "13.234444492",
         "5.70000 MAc ",
         "0.61000 N   ",
         "0.16000 VL",
         "7.00000 VL",
         "201.00000 M ",
         "48.40000 S",
         "0.32000 D",
         "10.61000 S",
         "0.22000 S",
         "4.37000 S",
         "0.70000 S",
         "1.0",
         "Tomato Hybrid",
         "Irrigation",
         "No",
         "Organic",
         "High",
         "1"
        ]
       ],
       "shape": {
        "columns": 23,
        "rows": 1
       }
      },
      "text/html": [
       "<div>\n",
       "<style scoped>\n",
       "    .dataframe tbody tr th:only-of-type {\n",
       "        vertical-align: middle;\n",
       "    }\n",
       "\n",
       "    .dataframe tbody tr th {\n",
       "        vertical-align: top;\n",
       "    }\n",
       "\n",
       "    .dataframe thead th {\n",
       "        text-align: right;\n",
       "    }\n",
       "</style>\n",
       "<table border=\"1\" class=\"dataframe\">\n",
       "  <thead>\n",
       "    <tr style=\"text-align: right;\">\n",
       "      <th></th>\n",
       "      <th>Name of Village</th>\n",
       "      <th>Sampled Year</th>\n",
       "      <th>Land Area</th>\n",
       "      <th>Longitude</th>\n",
       "      <th>Lattitude</th>\n",
       "      <th>pH</th>\n",
       "      <th>EC</th>\n",
       "      <th>OC</th>\n",
       "      <th>P</th>\n",
       "      <th>K</th>\n",
       "      <th>S</th>\n",
       "      <th>Zn</th>\n",
       "      <th>Fe</th>\n",
       "      <th>Cu</th>\n",
       "      <th>Mn</th>\n",
       "      <th>B</th>\n",
       "      <th>Fertility Index</th>\n",
       "      <th>Crop Name</th>\n",
       "      <th>Irrigation Pattern</th>\n",
       "      <th>Crop Rotation</th>\n",
       "      <th>Fertilizer Used</th>\n",
       "      <th>Yield Returns</th>\n",
       "      <th>YR(Label)</th>\n",
       "    </tr>\n",
       "  </thead>\n",
       "  <tbody>\n",
       "    <tr>\n",
       "      <th>0</th>\n",
       "      <td>Varadaganahalli Avani Hobli</td>\n",
       "      <td>2016-17</td>\n",
       "      <td>1.0</td>\n",
       "      <td>78.555278</td>\n",
       "      <td>13.234444</td>\n",
       "      <td>5.70000 MAc</td>\n",
       "      <td>0.61000 N</td>\n",
       "      <td>0.16000 VL</td>\n",
       "      <td>7.00000 VL</td>\n",
       "      <td>201.00000 M</td>\n",
       "      <td>48.40000 S</td>\n",
       "      <td>0.32000 D</td>\n",
       "      <td>10.61000 S</td>\n",
       "      <td>0.22000 S</td>\n",
       "      <td>4.37000 S</td>\n",
       "      <td>0.70000 S</td>\n",
       "      <td>1.0</td>\n",
       "      <td>Tomato Hybrid</td>\n",
       "      <td>Irrigation</td>\n",
       "      <td>No</td>\n",
       "      <td>Organic</td>\n",
       "      <td>High</td>\n",
       "      <td>1</td>\n",
       "    </tr>\n",
       "  </tbody>\n",
       "</table>\n",
       "</div>"
      ],
      "text/plain": [
       "               Name of Village Sampled Year  Land Area  Longitude  Lattitude  \\\n",
       "0  Varadaganahalli Avani Hobli      2016-17        1.0  78.555278  13.234444   \n",
       "\n",
       "             pH            EC          OC           P             K  \\\n",
       "0  5.70000 MAc   0.61000 N     0.16000 VL  7.00000 VL  201.00000 M    \n",
       "\n",
       "            S         Zn          Fe         Cu         Mn          B  \\\n",
       "0  48.40000 S  0.32000 D  10.61000 S  0.22000 S  4.37000 S  0.70000 S   \n",
       "\n",
       "   Fertility Index      Crop Name Irrigation Pattern Crop Rotation  \\\n",
       "0              1.0  Tomato Hybrid         Irrigation            No   \n",
       "\n",
       "  Fertilizer Used Yield Returns YR(Label)  \n",
       "0         Organic          High         1  "
      ]
     },
     "execution_count": 90,
     "metadata": {},
     "output_type": "execute_result"
    }
   ],
   "source": [
    "df.head(1)"
   ]
  },
  {
   "cell_type": "code",
   "execution_count": null,
   "id": "9182ba41",
   "metadata": {},
   "outputs": [],
   "source": []
  }
 ],
 "metadata": {
  "kernelspec": {
   "display_name": "base",
   "language": "python",
   "name": "python3"
  },
  "language_info": {
   "codemirror_mode": {
    "name": "ipython",
    "version": 3
   },
   "file_extension": ".py",
   "mimetype": "text/x-python",
   "name": "python",
   "nbconvert_exporter": "python",
   "pygments_lexer": "ipython3",
   "version": "3.12.7"
  }
 },
 "nbformat": 4,
 "nbformat_minor": 5
}
